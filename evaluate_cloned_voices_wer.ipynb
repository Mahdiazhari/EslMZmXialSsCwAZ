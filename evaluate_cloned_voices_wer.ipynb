{
  "cells": [
    {
      "cell_type": "code",
      "execution_count": 2,
      "metadata": {
        "colab": {
          "base_uri": "https://localhost:8080/"
        },
        "id": "m7GEDQcuJp1d",
        "outputId": "ec14e47d-25f4-4419-a189-e674f07fdc17"
      },
      "outputs": [
        {
          "output_type": "stream",
          "name": "stdout",
          "text": [
            "Mounted at /content/drive\n"
          ]
        }
      ],
      "source": [
        "from google.colab import drive\n",
        "\n",
        "drive.mount('/content/drive')"
      ]
    },
    {
      "cell_type": "code",
      "execution_count": 3,
      "metadata": {
        "colab": {
          "base_uri": "https://localhost:8080/"
        },
        "id": "-c--Gkxjfht_",
        "outputId": "8e87d0b5-3521-46b1-f079-a4e9581ed9ce"
      },
      "outputs": [
        {
          "output_type": "stream",
          "name": "stdout",
          "text": [
            "Looking in indexes: https://pypi.org/simple, https://us-python.pkg.dev/colab-wheels/public/simple/\n",
            "Collecting pywhisper\n",
            "  Downloading pywhisper-1.0.6-py3-none-any.whl (1.2 MB)\n",
            "\u001b[2K     \u001b[90m━━━━━━━━━━━━━━━━━━━━━━━━━━━━━━━━━━━━━━━━\u001b[0m \u001b[32m1.2/1.2 MB\u001b[0m \u001b[31m17.3 MB/s\u001b[0m eta \u001b[36m0:00:00\u001b[0m\n",
            "\u001b[?25hRequirement already satisfied: more-itertools in /usr/local/lib/python3.9/dist-packages (from pywhisper) (9.1.0)\n",
            "Requirement already satisfied: tqdm in /usr/local/lib/python3.9/dist-packages (from pywhisper) (4.65.0)\n",
            "Collecting transformers>=4.19.0\n",
            "  Downloading transformers-4.26.1-py3-none-any.whl (6.3 MB)\n",
            "\u001b[2K     \u001b[90m━━━━━━━━━━━━━━━━━━━━━━━━━━━━━━━━━━━━━━━━\u001b[0m \u001b[32m6.3/6.3 MB\u001b[0m \u001b[31m97.2 MB/s\u001b[0m eta \u001b[36m0:00:00\u001b[0m\n",
            "\u001b[?25hRequirement already satisfied: numpy in /usr/local/lib/python3.9/dist-packages (from pywhisper) (1.22.4)\n",
            "Requirement already satisfied: torch in /usr/local/lib/python3.9/dist-packages (from pywhisper) (1.13.1+cu116)\n",
            "Collecting moviepy==1.0.3\n",
            "  Downloading moviepy-1.0.3.tar.gz (388 kB)\n",
            "\u001b[2K     \u001b[90m━━━━━━━━━━━━━━━━━━━━━━━━━━━━━━━━━━━━━━\u001b[0m \u001b[32m388.3/388.3 KB\u001b[0m \u001b[31m34.5 MB/s\u001b[0m eta \u001b[36m0:00:00\u001b[0m\n",
            "\u001b[?25h  Preparing metadata (setup.py) ... \u001b[?25l\u001b[?25hdone\n",
            "Requirement already satisfied: decorator<5.0,>=4.0.2 in /usr/local/lib/python3.9/dist-packages (from moviepy==1.0.3->pywhisper) (4.4.2)\n",
            "Requirement already satisfied: requests<3.0,>=2.8.1 in /usr/local/lib/python3.9/dist-packages (from moviepy==1.0.3->pywhisper) (2.25.1)\n",
            "Collecting proglog<=1.0.0\n",
            "  Downloading proglog-0.1.10-py3-none-any.whl (6.1 kB)\n",
            "Requirement already satisfied: imageio<3.0,>=2.5 in /usr/local/lib/python3.9/dist-packages (from moviepy==1.0.3->pywhisper) (2.9.0)\n",
            "Collecting imageio_ffmpeg>=0.2.0\n",
            "  Downloading imageio_ffmpeg-0.4.8-py3-none-manylinux2010_x86_64.whl (26.9 MB)\n",
            "\u001b[2K     \u001b[90m━━━━━━━━━━━━━━━━━━━━━━━━━━━━━━━━━━━━━━━━\u001b[0m \u001b[32m26.9/26.9 MB\u001b[0m \u001b[31m63.5 MB/s\u001b[0m eta \u001b[36m0:00:00\u001b[0m\n",
            "\u001b[?25hRequirement already satisfied: regex!=2019.12.17 in /usr/local/lib/python3.9/dist-packages (from transformers>=4.19.0->pywhisper) (2022.6.2)\n",
            "Requirement already satisfied: packaging>=20.0 in /usr/local/lib/python3.9/dist-packages (from transformers>=4.19.0->pywhisper) (23.0)\n",
            "Requirement already satisfied: filelock in /usr/local/lib/python3.9/dist-packages (from transformers>=4.19.0->pywhisper) (3.9.0)\n",
            "Requirement already satisfied: pyyaml>=5.1 in /usr/local/lib/python3.9/dist-packages (from transformers>=4.19.0->pywhisper) (6.0)\n",
            "Collecting huggingface-hub<1.0,>=0.11.0\n",
            "  Downloading huggingface_hub-0.13.1-py3-none-any.whl (199 kB)\n",
            "\u001b[2K     \u001b[90m━━━━━━━━━━━━━━━━━━━━━━━━━━━━━━━━━━━━━━\u001b[0m \u001b[32m199.2/199.2 KB\u001b[0m \u001b[31m24.2 MB/s\u001b[0m eta \u001b[36m0:00:00\u001b[0m\n",
            "\u001b[?25hCollecting tokenizers!=0.11.3,<0.14,>=0.11.1\n",
            "  Downloading tokenizers-0.13.2-cp39-cp39-manylinux_2_17_x86_64.manylinux2014_x86_64.whl (7.6 MB)\n",
            "\u001b[2K     \u001b[90m━━━━━━━━━━━━━━━━━━━━━━━━━━━━━━━━━━━━━━━━\u001b[0m \u001b[32m7.6/7.6 MB\u001b[0m \u001b[31m104.4 MB/s\u001b[0m eta \u001b[36m0:00:00\u001b[0m\n",
            "\u001b[?25hRequirement already satisfied: typing-extensions in /usr/local/lib/python3.9/dist-packages (from torch->pywhisper) (4.5.0)\n",
            "Requirement already satisfied: pillow in /usr/local/lib/python3.9/dist-packages (from imageio<3.0,>=2.5->moviepy==1.0.3->pywhisper) (8.4.0)\n",
            "Requirement already satisfied: chardet<5,>=3.0.2 in /usr/local/lib/python3.9/dist-packages (from requests<3.0,>=2.8.1->moviepy==1.0.3->pywhisper) (4.0.0)\n",
            "Requirement already satisfied: idna<3,>=2.5 in /usr/local/lib/python3.9/dist-packages (from requests<3.0,>=2.8.1->moviepy==1.0.3->pywhisper) (2.10)\n",
            "Requirement already satisfied: certifi>=2017.4.17 in /usr/local/lib/python3.9/dist-packages (from requests<3.0,>=2.8.1->moviepy==1.0.3->pywhisper) (2022.12.7)\n",
            "Requirement already satisfied: urllib3<1.27,>=1.21.1 in /usr/local/lib/python3.9/dist-packages (from requests<3.0,>=2.8.1->moviepy==1.0.3->pywhisper) (1.26.14)\n",
            "Building wheels for collected packages: moviepy\n",
            "  Building wheel for moviepy (setup.py) ... \u001b[?25l\u001b[?25hdone\n",
            "  Created wheel for moviepy: filename=moviepy-1.0.3-py3-none-any.whl size=110742 sha256=254c9a70d1c5f935195589ef90a641eb34754bd99a852ce2372c52c70489aa59\n",
            "  Stored in directory: /root/.cache/pip/wheels/29/15/e4/4f790bec6acd51a00b67e8ee1394f0bc6e0135c315f8ff399a\n",
            "Successfully built moviepy\n",
            "Installing collected packages: tokenizers, proglog, imageio_ffmpeg, moviepy, huggingface-hub, transformers, pywhisper\n",
            "  Attempting uninstall: moviepy\n",
            "    Found existing installation: moviepy 0.2.3.5\n",
            "    Uninstalling moviepy-0.2.3.5:\n",
            "      Successfully uninstalled moviepy-0.2.3.5\n",
            "Successfully installed huggingface-hub-0.13.1 imageio_ffmpeg-0.4.8 moviepy-1.0.3 proglog-0.1.10 pywhisper-1.0.6 tokenizers-0.13.2 transformers-4.26.1\n"
          ]
        }
      ],
      "source": [
        "!pip install pywhisper"
      ]
    },
    {
      "cell_type": "code",
      "execution_count": 4,
      "metadata": {
        "colab": {
          "base_uri": "https://localhost:8080/"
        },
        "id": "IgIKnraBkeh5",
        "outputId": "ebbca542-3396-4494-b814-016568d85d05"
      },
      "outputs": [
        {
          "output_type": "stream",
          "name": "stdout",
          "text": [
            "Looking in indexes: https://pypi.org/simple, https://us-python.pkg.dev/colab-wheels/public/simple/\n",
            "Collecting jiwer\n",
            "  Downloading jiwer-2.5.1-py3-none-any.whl (15 kB)\n",
            "Collecting levenshtein==0.20.2\n",
            "  Downloading Levenshtein-0.20.2-cp39-cp39-manylinux_2_17_x86_64.manylinux2014_x86_64.whl (1.4 MB)\n",
            "\u001b[2K     \u001b[90m━━━━━━━━━━━━━━━━━━━━━━━━━━━━━━━━━━━━━━━━\u001b[0m \u001b[32m1.4/1.4 MB\u001b[0m \u001b[31m20.0 MB/s\u001b[0m eta \u001b[36m0:00:00\u001b[0m\n",
            "\u001b[?25hCollecting rapidfuzz<3.0.0,>=2.3.0\n",
            "  Downloading rapidfuzz-2.13.7-cp39-cp39-manylinux_2_17_x86_64.manylinux2014_x86_64.whl (2.2 MB)\n",
            "\u001b[2K     \u001b[90m━━━━━━━━━━━━━━━━━━━━━━━━━━━━━━━━━━━━━━━━\u001b[0m \u001b[32m2.2/2.2 MB\u001b[0m \u001b[31m76.5 MB/s\u001b[0m eta \u001b[36m0:00:00\u001b[0m\n",
            "\u001b[?25hInstalling collected packages: rapidfuzz, levenshtein, jiwer\n",
            "Successfully installed jiwer-2.5.1 levenshtein-0.20.2 rapidfuzz-2.13.7\n"
          ]
        }
      ],
      "source": [
        "!pip install jiwer"
      ]
    },
    {
      "cell_type": "code",
      "execution_count": 5,
      "metadata": {
        "colab": {
          "base_uri": "https://localhost:8080/"
        },
        "id": "TUvp6ek8LU49",
        "outputId": "24a4551c-8f34-41fd-d91f-646a3d379aad"
      },
      "outputs": [
        {
          "output_type": "stream",
          "name": "stderr",
          "text": [
            "100%|██████████████████████████████████████| 2.87G/2.87G [00:14<00:00, 219MiB/s]\n"
          ]
        }
      ],
      "source": [
        "import pywhisper\n",
        "from pywhisper.utils import write_srt, format_timestamp\n",
        "from pathlib import Path\n",
        "\n",
        "model_Large = pywhisper.load_model(\"large\")"
      ]
    },
    {
      "cell_type": "code",
      "execution_count": 6,
      "metadata": {
        "id": "8kKJZMO6gYyo"
      },
      "outputs": [],
      "source": [
        "import csv\n",
        "import os\n",
        "from jiwer import wer"
      ]
    },
    {
      "cell_type": "code",
      "execution_count": 7,
      "metadata": {
        "id": "hvve_02wnlPD"
      },
      "outputs": [],
      "source": [
        "import re\n"
      ]
    },
    {
      "cell_type": "code",
      "execution_count": 8,
      "metadata": {
        "id": "R-bzc5QGfoe1"
      },
      "outputs": [],
      "source": [
        "working_directory = '/content/drive/MyDrive/Apziva/fake_audio_detection'"
      ]
    },
    {
      "cell_type": "code",
      "execution_count": 9,
      "metadata": {
        "id": "H0MY4BMQgS9R"
      },
      "outputs": [],
      "source": [
        "fake_voices_dir = os.path.join(working_directory, 'fake_speeches')"
      ]
    },
    {
      "cell_type": "code",
      "execution_count": 10,
      "metadata": {
        "id": "ooco0JrUg_VN"
      },
      "outputs": [],
      "source": [
        "fake_list = os.listdir(fake_voices_dir)"
      ]
    },
    {
      "cell_type": "code",
      "execution_count": 11,
      "metadata": {
        "colab": {
          "base_uri": "https://localhost:8080/",
          "height": 35
        },
        "id": "pCESdV8Tho-1",
        "outputId": "f6cd44ce-aba9-4c06-cc42-fa54ec01affb"
      },
      "outputs": [
        {
          "output_type": "execute_result",
          "data": {
            "text/plain": [
              "'fake_1905.wav'"
            ],
            "application/vnd.google.colaboratory.intrinsic+json": {
              "type": "string"
            }
          },
          "metadata": {},
          "execution_count": 11
        }
      ],
      "source": [
        "fake_list[2]"
      ]
    },
    {
      "cell_type": "code",
      "source": [
        "len(fake_list)"
      ],
      "metadata": {
        "colab": {
          "base_uri": "https://localhost:8080/"
        },
        "id": "scqtDK1shYyq",
        "outputId": "25656212-81e8-4709-8288-0bc755ce7915"
      },
      "execution_count": 12,
      "outputs": [
        {
          "output_type": "execute_result",
          "data": {
            "text/plain": [
              "1968"
            ]
          },
          "metadata": {},
          "execution_count": 12
        }
      ]
    },
    {
      "cell_type": "code",
      "execution_count": 13,
      "metadata": {
        "id": "Sp90o1-MhIQP"
      },
      "outputs": [],
      "source": [
        "not_found_files = []\n",
        "for i in range(2001):\n",
        "  if 'fake_{}.wav'.format(i) not in fake_list:\n",
        "    #print(i)\n",
        "    not_found_files.append(i)"
      ]
    },
    {
      "cell_type": "code",
      "execution_count": 14,
      "metadata": {
        "colab": {
          "base_uri": "https://localhost:8080/"
        },
        "id": "mpKn0337iBAu",
        "outputId": "924f40ad-c399-489d-fea0-45a12ab18773"
      },
      "outputs": [
        {
          "output_type": "execute_result",
          "data": {
            "text/plain": [
              "33"
            ]
          },
          "metadata": {},
          "execution_count": 14
        }
      ],
      "source": [
        "len(not_found_files)"
      ]
    },
    {
      "cell_type": "code",
      "execution_count": 15,
      "metadata": {
        "id": "FFKr-_Ntm_mz"
      },
      "outputs": [],
      "source": [
        "test_result_dict = model_Large.transcribe(os.path.join(fake_voices_dir,fake_list[2]))"
      ]
    },
    {
      "cell_type": "code",
      "execution_count": 16,
      "metadata": {
        "colab": {
          "base_uri": "https://localhost:8080/",
          "height": 35
        },
        "id": "XayqErxhnQuP",
        "outputId": "8176d483-0748-4eb2-dab9-96d1680fb7ad"
      },
      "outputs": [
        {
          "output_type": "execute_result",
          "data": {
            "text/plain": [
              "' The publication of this report raised a storm in the city, and the Corporation was roused to make an immediate protest.'"
            ],
            "application/vnd.google.colaboratory.intrinsic+json": {
              "type": "string"
            }
          },
          "metadata": {},
          "execution_count": 16
        }
      ],
      "source": [
        "test_result_dict['text']"
      ]
    },
    {
      "cell_type": "code",
      "execution_count": 17,
      "metadata": {
        "id": "n75UsSU6oaEo"
      },
      "outputs": [],
      "source": [
        "clean_string = [s for s in test_result_dict['text'] if s.isalnum() or s.isspace()]\n",
        "clean_string = \"\".join(clean_string)"
      ]
    },
    {
      "cell_type": "code",
      "execution_count": 18,
      "metadata": {
        "colab": {
          "base_uri": "https://localhost:8080/",
          "height": 35
        },
        "id": "zOP72V8AocQ5",
        "outputId": "bb991b46-5d37-4a80-e0c6-f792d0668a52"
      },
      "outputs": [
        {
          "output_type": "execute_result",
          "data": {
            "text/plain": [
              "' The publication of this report raised a storm in the city and the Corporation was roused to make an immediate protest'"
            ],
            "application/vnd.google.colaboratory.intrinsic+json": {
              "type": "string"
            }
          },
          "metadata": {},
          "execution_count": 18
        }
      ],
      "source": [
        "clean_string"
      ]
    },
    {
      "cell_type": "code",
      "execution_count": 19,
      "metadata": {
        "colab": {
          "base_uri": "https://localhost:8080/",
          "height": 35
        },
        "id": "UNsFqTa_nmyT",
        "outputId": "d1ab972c-5a53-4aad-f1e3-22307e15ad64"
      },
      "outputs": [
        {
          "output_type": "execute_result",
          "data": {
            "text/plain": [
              "' the publication of this report raised a storm in the city and the corporation was roused to make an immediate protest.'"
            ],
            "application/vnd.google.colaboratory.intrinsic+json": {
              "type": "string"
            }
          },
          "metadata": {},
          "execution_count": 19
        }
      ],
      "source": [
        "re.sub('\\W+ ',' ', test_result_dict['text']).lower()"
      ]
    },
    {
      "cell_type": "code",
      "execution_count": 20,
      "metadata": {
        "id": "Aiee35n4_rdF"
      },
      "outputs": [],
      "source": [
        "error_rate = wer(clean_string, clean_string)"
      ]
    },
    {
      "cell_type": "code",
      "execution_count": 21,
      "metadata": {
        "colab": {
          "base_uri": "https://localhost:8080/"
        },
        "id": "VXVJu82m_t2c",
        "outputId": "88d45573-483e-4ccf-d91f-a7c43628efe1"
      },
      "outputs": [
        {
          "output_type": "stream",
          "name": "stdout",
          "text": [
            "0.0\n"
          ]
        }
      ],
      "source": [
        "print(error_rate)"
      ]
    },
    {
      "cell_type": "code",
      "execution_count": 22,
      "metadata": {
        "id": "Fkx4qJcCgUnQ",
        "colab": {
          "base_uri": "https://localhost:8080/"
        },
        "outputId": "c4af1348-294c-4636-a0f9-760313171337"
      },
      "outputs": [
        {
          "output_type": "stream",
          "name": "stdout",
          "text": [
            "Processed 1968 lines.\n"
          ]
        }
      ],
      "source": [
        "error_list = []\n",
        "path = fake_voices_dir\n",
        "\n",
        "with open(os.path.join(working_directory, 'metadata.csv')) as csv_file:\n",
        "    csv_reader = csv.reader(csv_file, delimiter='|')\n",
        "    line_count = 0\n",
        "    file_count = 0\n",
        "    for row in csv_reader:\n",
        "        if line_count in not_found_files:\n",
        "          line_count+=1\n",
        "          file_count+=1\n",
        "          continue\n",
        "        try:\n",
        "            \n",
        "            text_from_metadata=row[2]\n",
        "            filename = fake_list[line_count]\n",
        "            model_output = model_Large.transcribe(os.path.join(path,filename))\n",
        "\n",
        "            model_output_text = model_output.get('text')\n",
        "            #print(model_output_text)\n",
        "      \n",
        "            clean_string = [s for s in model_output_text if s.isalnum() or s.isspace()]\n",
        "            clean_string = \"\".join(clean_string)\n",
        "            clean_string = clean_string.lower()\n",
        "\n",
        "            text_from_metadata = text_from_metadata.lower()\n",
        "            text_from_metadata = [s for s in text_from_metadata if s.isalnum() or s.isspace()]\n",
        "            text_from_metadata = \"\".join(text_from_metadata)\n",
        "            error_rate = wer(text_from_metadata, clean_string)\n",
        "            #tts.tts_to_file(text=text_from_metadata, file_path='fake_speeches/fake_{}.wav'.format(line_count))\n",
        "            error_list.append(error_rate)\n",
        "        except Exception as e:\n",
        "            print('problem processing line: {}'.format(line_count))\n",
        "            print(e)\n",
        "        line_count+=1\n",
        "        file_count+=1\n",
        "        if file_count == len(fake_list):\n",
        "            break\n",
        "        \n",
        "    print(f'Processed {line_count} lines.')"
      ]
    },
    {
      "cell_type": "code",
      "execution_count": 23,
      "metadata": {
        "id": "tc_9xzqnxSz3"
      },
      "outputs": [],
      "source": [
        "import pickle"
      ]
    },
    {
      "cell_type": "code",
      "execution_count": 24,
      "metadata": {
        "id": "o-GH_enpxYhP"
      },
      "outputs": [],
      "source": [
        "with open('error_list_pickled.pkl', 'wb') as f:\n",
        "  pickle.dump(error_list, f)"
      ]
    },
    {
      "cell_type": "code",
      "execution_count": 25,
      "metadata": {
        "id": "NMPJZTOVxJRG"
      },
      "outputs": [],
      "source": [
        "def Average(lst):\n",
        "    return sum(lst) / len(lst)"
      ]
    },
    {
      "cell_type": "code",
      "execution_count": 26,
      "metadata": {
        "id": "Q7CcccLoxMp7"
      },
      "outputs": [],
      "source": [
        "average = Average(error_list)"
      ]
    },
    {
      "cell_type": "code",
      "execution_count": 27,
      "metadata": {
        "id": "Dv1mBJtVxLSY",
        "colab": {
          "base_uri": "https://localhost:8080/"
        },
        "outputId": "45a85aad-7c3f-49de-dccc-44bebe3c6b2d"
      },
      "outputs": [
        {
          "output_type": "stream",
          "name": "stdout",
          "text": [
            "1.2858963216978037\n"
          ]
        }
      ],
      "source": [
        "print(average)"
      ]
    },
    {
      "cell_type": "code",
      "execution_count": 27,
      "metadata": {
        "id": "3TLjo3DFxQww"
      },
      "outputs": [],
      "source": []
    }
  ],
  "metadata": {
    "accelerator": "GPU",
    "colab": {
      "machine_shape": "hm",
      "provenance": []
    },
    "gpuClass": "premium",
    "kernelspec": {
      "display_name": "Python 3",
      "name": "python3"
    },
    "language_info": {
      "name": "python"
    }
  },
  "nbformat": 4,
  "nbformat_minor": 0
}